{
 "cells": [
  {
   "cell_type": "code",
   "execution_count": 1,
   "id": "77b177b3",
   "metadata": {},
   "outputs": [],
   "source": [
    "# Initial imports.\n",
    "import pandas as pd\n",
    "from sklearn.ensemble import RandomForestRegressor\n",
    "from sklearn.linear_model import Lasso\n",
    "from sklearn.preprocessing import StandardScaler\n",
    "from sklearn.model_selection import train_test_split\n",
    "from sklearn.metrics import confusion_matrix, accuracy_score, classification_report"
   ]
  },
  {
   "cell_type": "code",
   "execution_count": 2,
   "id": "4eb36ee8",
   "metadata": {},
   "outputs": [
    {
     "data": {
      "text/html": [
       "<div>\n",
       "<style scoped>\n",
       "    .dataframe tbody tr th:only-of-type {\n",
       "        vertical-align: middle;\n",
       "    }\n",
       "\n",
       "    .dataframe tbody tr th {\n",
       "        vertical-align: top;\n",
       "    }\n",
       "\n",
       "    .dataframe thead th {\n",
       "        text-align: right;\n",
       "    }\n",
       "</style>\n",
       "<table border=\"1\" class=\"dataframe\">\n",
       "  <thead>\n",
       "    <tr style=\"text-align: right;\">\n",
       "      <th></th>\n",
       "      <th>latitude</th>\n",
       "      <th>longitude</th>\n",
       "      <th>GEOID</th>\n",
       "      <th>County_State</th>\n",
       "      <th>closest_plant</th>\n",
       "      <th>distance</th>\n",
       "      <th>plant_capacity</th>\n",
       "      <th>State</th>\n",
       "      <th>Rate</th>\n",
       "      <th>bladder</th>\n",
       "      <th>...</th>\n",
       "      <th>lung</th>\n",
       "      <th>melanoma</th>\n",
       "      <th>non-hodgkins_lymphoma</th>\n",
       "      <th>oral_cavity</th>\n",
       "      <th>ovary</th>\n",
       "      <th>pancreas</th>\n",
       "      <th>prostate</th>\n",
       "      <th>stomach</th>\n",
       "      <th>thyroid</th>\n",
       "      <th>uterus</th>\n",
       "    </tr>\n",
       "  </thead>\n",
       "  <tbody>\n",
       "    <tr>\n",
       "      <th>0</th>\n",
       "      <td>32.534920</td>\n",
       "      <td>-86.642749</td>\n",
       "      <td>01001</td>\n",
       "      <td>Autauga County, Alabama</td>\n",
       "      <td>Joseph M. Farley Nuclear Plant</td>\n",
       "      <td>128.0</td>\n",
       "      <td>1776.4</td>\n",
       "      <td>Autauga County, Alabama</td>\n",
       "      <td>506.4</td>\n",
       "      <td>15.8</td>\n",
       "      <td>...</td>\n",
       "      <td>58.6</td>\n",
       "      <td>28.2</td>\n",
       "      <td>10.7</td>\n",
       "      <td>0.0</td>\n",
       "      <td>12.9</td>\n",
       "      <td>9.7</td>\n",
       "      <td>158.0</td>\n",
       "      <td>0.0</td>\n",
       "      <td>0.0</td>\n",
       "      <td>25.5</td>\n",
       "    </tr>\n",
       "    <tr>\n",
       "      <th>1</th>\n",
       "      <td>30.660970</td>\n",
       "      <td>-87.749840</td>\n",
       "      <td>01003</td>\n",
       "      <td>Baldwin County, Alabama</td>\n",
       "      <td>Joseph M. Farley Nuclear Plant</td>\n",
       "      <td>161.0</td>\n",
       "      <td>1776.4</td>\n",
       "      <td>Baldwin County, Alabama</td>\n",
       "      <td>455.7</td>\n",
       "      <td>23.1</td>\n",
       "      <td>...</td>\n",
       "      <td>55.9</td>\n",
       "      <td>28.1</td>\n",
       "      <td>14.8</td>\n",
       "      <td>8.2</td>\n",
       "      <td>11.8</td>\n",
       "      <td>10.0</td>\n",
       "      <td>91.8</td>\n",
       "      <td>8.1</td>\n",
       "      <td>3.8</td>\n",
       "      <td>17.6</td>\n",
       "    </tr>\n",
       "    <tr>\n",
       "      <th>2</th>\n",
       "      <td>31.869603</td>\n",
       "      <td>-85.393197</td>\n",
       "      <td>01005</td>\n",
       "      <td>Barbour County, Alabama</td>\n",
       "      <td>Joseph M. Farley Nuclear Plant</td>\n",
       "      <td>48.0</td>\n",
       "      <td>1776.4</td>\n",
       "      <td>Barbour County, Alabama</td>\n",
       "      <td>447.2</td>\n",
       "      <td>13.3</td>\n",
       "      <td>...</td>\n",
       "      <td>40.1</td>\n",
       "      <td>24.9</td>\n",
       "      <td>0.0</td>\n",
       "      <td>0.0</td>\n",
       "      <td>0.0</td>\n",
       "      <td>0.0</td>\n",
       "      <td>162.6</td>\n",
       "      <td>0.0</td>\n",
       "      <td>0.0</td>\n",
       "      <td>22.7</td>\n",
       "    </tr>\n",
       "    <tr>\n",
       "      <th>3</th>\n",
       "      <td>32.998644</td>\n",
       "      <td>-87.126439</td>\n",
       "      <td>01007</td>\n",
       "      <td>Bibb County, Alabama</td>\n",
       "      <td>Browns Ferry Nuclear Plant</td>\n",
       "      <td>118.0</td>\n",
       "      <td>3567.5</td>\n",
       "      <td>Bibb County, Alabama</td>\n",
       "      <td>466.1</td>\n",
       "      <td>19.8</td>\n",
       "      <td>...</td>\n",
       "      <td>61.9</td>\n",
       "      <td>0.0</td>\n",
       "      <td>0.0</td>\n",
       "      <td>0.0</td>\n",
       "      <td>0.0</td>\n",
       "      <td>0.0</td>\n",
       "      <td>112.1</td>\n",
       "      <td>0.0</td>\n",
       "      <td>0.0</td>\n",
       "      <td>25.3</td>\n",
       "    </tr>\n",
       "    <tr>\n",
       "      <th>4</th>\n",
       "      <td>33.980867</td>\n",
       "      <td>-86.567371</td>\n",
       "      <td>01009</td>\n",
       "      <td>Blount County, Alabama</td>\n",
       "      <td>Browns Ferry Nuclear Plant</td>\n",
       "      <td>59.0</td>\n",
       "      <td>3567.5</td>\n",
       "      <td>Blount County, Alabama</td>\n",
       "      <td>438.7</td>\n",
       "      <td>17.4</td>\n",
       "      <td>...</td>\n",
       "      <td>49.8</td>\n",
       "      <td>16.5</td>\n",
       "      <td>16.1</td>\n",
       "      <td>0.0</td>\n",
       "      <td>14.1</td>\n",
       "      <td>11.5</td>\n",
       "      <td>96.9</td>\n",
       "      <td>0.0</td>\n",
       "      <td>9.4</td>\n",
       "      <td>23.5</td>\n",
       "    </tr>\n",
       "  </tbody>\n",
       "</table>\n",
       "<p>5 rows × 29 columns</p>\n",
       "</div>"
      ],
      "text/plain": [
       "    latitude  longitude  GEOID             County_State  \\\n",
       "0  32.534920 -86.642749  01001  Autauga County, Alabama   \n",
       "1  30.660970 -87.749840  01003  Baldwin County, Alabama   \n",
       "2  31.869603 -85.393197  01005  Barbour County, Alabama   \n",
       "3  32.998644 -87.126439  01007     Bibb County, Alabama   \n",
       "4  33.980867 -86.567371  01009   Blount County, Alabama   \n",
       "\n",
       "                    closest_plant  distance  plant_capacity  \\\n",
       "0  Joseph M. Farley Nuclear Plant     128.0          1776.4   \n",
       "1  Joseph M. Farley Nuclear Plant     161.0          1776.4   \n",
       "2  Joseph M. Farley Nuclear Plant      48.0          1776.4   \n",
       "3      Browns Ferry Nuclear Plant     118.0          3567.5   \n",
       "4      Browns Ferry Nuclear Plant      59.0          3567.5   \n",
       "\n",
       "                     State   Rate  bladder  ...  lung  melanoma  \\\n",
       "0  Autauga County, Alabama  506.4     15.8  ...  58.6      28.2   \n",
       "1  Baldwin County, Alabama  455.7     23.1  ...  55.9      28.1   \n",
       "2  Barbour County, Alabama  447.2     13.3  ...  40.1      24.9   \n",
       "3     Bibb County, Alabama  466.1     19.8  ...  61.9       0.0   \n",
       "4   Blount County, Alabama  438.7     17.4  ...  49.8      16.5   \n",
       "\n",
       "   non-hodgkins_lymphoma  oral_cavity  ovary  pancreas  prostate  stomach  \\\n",
       "0                   10.7          0.0   12.9       9.7     158.0      0.0   \n",
       "1                   14.8          8.2   11.8      10.0      91.8      8.1   \n",
       "2                    0.0          0.0    0.0       0.0     162.6      0.0   \n",
       "3                    0.0          0.0    0.0       0.0     112.1      0.0   \n",
       "4                   16.1          0.0   14.1      11.5      96.9      0.0   \n",
       "\n",
       "   thyroid  uterus  \n",
       "0      0.0    25.5  \n",
       "1      3.8    17.6  \n",
       "2      0.0    22.7  \n",
       "3      0.0    25.3  \n",
       "4      9.4    23.5  \n",
       "\n",
       "[5 rows x 29 columns]"
      ]
     },
     "execution_count": 2,
     "metadata": {},
     "output_type": "execute_result"
    }
   ],
   "source": [
    "nuc_cancer_df = pd.read_csv('../cleaned_data/ML_data_nuc_cancer.csv', dtype={'GEOID': str})\n",
    "nuc_cancer_df.head()"
   ]
  },
  {
   "cell_type": "code",
   "execution_count": 3,
   "id": "213d9dd3",
   "metadata": {},
   "outputs": [
    {
     "data": {
      "text/plain": [
       "Index(['latitude', 'longitude', 'GEOID', 'County_State', 'closest_plant',\n",
       "       'distance', 'plant_capacity', 'State', 'Rate', 'bladder', 'brain',\n",
       "       'breast', 'breast_insitu', 'cervix', 'colon', 'esophagus',\n",
       "       'kidney_and_renal', 'leukemia', 'liver', 'lung', 'melanoma',\n",
       "       'non-hodgkins_lymphoma', 'oral_cavity', 'ovary', 'pancreas', 'prostate',\n",
       "       'stomach', 'thyroid', 'uterus'],\n",
       "      dtype='object')"
      ]
     },
     "execution_count": 3,
     "metadata": {},
     "output_type": "execute_result"
    }
   ],
   "source": [
    "nuc_cancer_df.columns"
   ]
  },
  {
   "cell_type": "code",
   "execution_count": 4,
   "id": "374b61ad",
   "metadata": {},
   "outputs": [
    {
     "data": {
      "text/html": [
       "<div>\n",
       "<style scoped>\n",
       "    .dataframe tbody tr th:only-of-type {\n",
       "        vertical-align: middle;\n",
       "    }\n",
       "\n",
       "    .dataframe tbody tr th {\n",
       "        vertical-align: top;\n",
       "    }\n",
       "\n",
       "    .dataframe thead th {\n",
       "        text-align: right;\n",
       "    }\n",
       "</style>\n",
       "<table border=\"1\" class=\"dataframe\">\n",
       "  <thead>\n",
       "    <tr style=\"text-align: right;\">\n",
       "      <th></th>\n",
       "      <th>distance</th>\n",
       "      <th>plant_capacity</th>\n",
       "    </tr>\n",
       "  </thead>\n",
       "  <tbody>\n",
       "    <tr>\n",
       "      <th>0</th>\n",
       "      <td>128.0</td>\n",
       "      <td>1776.4</td>\n",
       "    </tr>\n",
       "    <tr>\n",
       "      <th>1</th>\n",
       "      <td>161.0</td>\n",
       "      <td>1776.4</td>\n",
       "    </tr>\n",
       "    <tr>\n",
       "      <th>2</th>\n",
       "      <td>48.0</td>\n",
       "      <td>1776.4</td>\n",
       "    </tr>\n",
       "    <tr>\n",
       "      <th>3</th>\n",
       "      <td>118.0</td>\n",
       "      <td>3567.5</td>\n",
       "    </tr>\n",
       "    <tr>\n",
       "      <th>4</th>\n",
       "      <td>59.0</td>\n",
       "      <td>3567.5</td>\n",
       "    </tr>\n",
       "  </tbody>\n",
       "</table>\n",
       "</div>"
      ],
      "text/plain": [
       "   distance  plant_capacity\n",
       "0     128.0          1776.4\n",
       "1     161.0          1776.4\n",
       "2      48.0          1776.4\n",
       "3     118.0          3567.5\n",
       "4      59.0          3567.5"
      ]
     },
     "execution_count": 4,
     "metadata": {},
     "output_type": "execute_result"
    }
   ],
   "source": [
    "# Define the features set.\n",
    "X = nuc_cancer_df.copy()\n",
    "X = X.drop(['latitude', 'longitude', 'GEOID', 'County_State', 'closest_plant', 'State', 'Rate', 'bladder', 'brain',\n",
    "       'breast', 'breast_insitu', 'cervix', 'colon', 'esophagus',\n",
    "       'kidney_and_renal', 'leukemia', 'liver', 'lung', 'melanoma',\n",
    "       'non-hodgkins_lymphoma', 'oral_cavity', 'ovary', 'pancreas', 'prostate',\n",
    "       'stomach', 'thyroid', 'uterus'], axis=1)\n",
    "X.head()"
   ]
  },
  {
   "cell_type": "code",
   "execution_count": 5,
   "id": "53b06391",
   "metadata": {},
   "outputs": [
    {
     "data": {
      "text/plain": [
       "0       25.5\n",
       "1       17.6\n",
       "2       22.7\n",
       "3       25.3\n",
       "4       23.5\n",
       "        ... \n",
       "2875    16.6\n",
       "2876     0.0\n",
       "2877     0.0\n",
       "2878     0.0\n",
       "2879     0.0\n",
       "Name: uterus, Length: 2880, dtype: float64"
      ]
     },
     "execution_count": 5,
     "metadata": {},
     "output_type": "execute_result"
    }
   ],
   "source": [
    "# Define the target set.\n",
    "y = nuc_cancer_df[\"uterus\"]\n",
    "y"
   ]
  },
  {
   "cell_type": "code",
   "execution_count": 6,
   "id": "277f882f",
   "metadata": {},
   "outputs": [],
   "source": [
    "# Splitting into Train and Test sets.\n",
    "X_train, X_test, y_train, y_test = train_test_split(X, y, random_state=78)"
   ]
  },
  {
   "cell_type": "code",
   "execution_count": 7,
   "id": "1eed961e",
   "metadata": {},
   "outputs": [],
   "source": [
    "# Creating a StandardScaler instance.\n",
    "scaler = StandardScaler()\n",
    "\n",
    "# Fitting the Standard Scaler with the training data.\n",
    "X_scaler = scaler.fit(X_train)\n",
    "\n",
    "# Scaling the data.\n",
    "X_train_scaled = X_scaler.transform(X_train)\n",
    "X_test_scaled = X_scaler.transform(X_test)"
   ]
  },
  {
   "cell_type": "markdown",
   "id": "46d5f6e2",
   "metadata": {},
   "source": [
    "### Random Forest Model"
   ]
  },
  {
   "cell_type": "code",
   "execution_count": 8,
   "id": "364e811c",
   "metadata": {},
   "outputs": [],
   "source": [
    "# Create a random forest regressor.\n",
    "rf_model = RandomForestRegressor(n_estimators = 1024, random_state = 78)"
   ]
  },
  {
   "cell_type": "code",
   "execution_count": 9,
   "id": "ebf155cf",
   "metadata": {},
   "outputs": [],
   "source": [
    "# Fitting the model\n",
    "rf_model = rf_model.fit(X_train_scaled, y_train)"
   ]
  },
  {
   "cell_type": "code",
   "execution_count": 10,
   "id": "332d3546",
   "metadata": {},
   "outputs": [],
   "source": [
    "# Making predictions using the testing data.\n",
    "predictions = rf_model.predict(X_test_scaled)"
   ]
  },
  {
   "cell_type": "code",
   "execution_count": 11,
   "id": "2340d77e",
   "metadata": {},
   "outputs": [
    {
     "name": "stdout",
     "output_type": "stream",
     "text": [
      "0.7932430279484993\n",
      "0.12241640208144189\n"
     ]
    }
   ],
   "source": [
    "print(rf_model.score(X_train_scaled, y_train))\n",
    "print(rf_model.score(X_test_scaled, y_test))"
   ]
  },
  {
   "cell_type": "markdown",
   "id": "33be54b9",
   "metadata": {},
   "source": [
    "### Lasso Model"
   ]
  },
  {
   "cell_type": "code",
   "execution_count": 12,
   "id": "8ce8fa40",
   "metadata": {},
   "outputs": [],
   "source": [
    "# Fit Lasso regression model\n",
    "lasso = Lasso(alpha=0.001)\n",
    "lasso = lasso.fit(X_train_scaled, y_train)"
   ]
  },
  {
   "cell_type": "code",
   "execution_count": 13,
   "id": "7089c516",
   "metadata": {},
   "outputs": [],
   "source": [
    "# Making predictions using the testing data.\n",
    "predictions = lasso.predict(X_test_scaled)"
   ]
  },
  {
   "cell_type": "code",
   "execution_count": 14,
   "id": "25d83d3b",
   "metadata": {},
   "outputs": [
    {
     "name": "stdout",
     "output_type": "stream",
     "text": [
      "0.051214612204472765\n",
      "0.0582520374783243\n"
     ]
    }
   ],
   "source": [
    "print(lasso.score(X_train_scaled, y_train))\n",
    "print(lasso.score(X_test_scaled, y_test))"
   ]
  }
 ],
 "metadata": {
  "kernelspec": {
   "display_name": "mlenv",
   "language": "python",
   "name": "mlenv"
  },
  "language_info": {
   "codemirror_mode": {
    "name": "ipython",
    "version": 3
   },
   "file_extension": ".py",
   "mimetype": "text/x-python",
   "name": "python",
   "nbconvert_exporter": "python",
   "pygments_lexer": "ipython3",
   "version": "3.7.13"
  }
 },
 "nbformat": 4,
 "nbformat_minor": 5
}
